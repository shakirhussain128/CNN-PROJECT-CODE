{
  "nbformat": 4,
  "nbformat_minor": 0,
  "metadata": {
    "colab": {
      "provenance": [],
      "gpuType": "T4",
      "authorship_tag": "ABX9TyPSmE7CbhvZdVAp4um70Ibn",
      "include_colab_link": true
    },
    "kernelspec": {
      "name": "python3",
      "display_name": "Python 3"
    },
    "language_info": {
      "name": "python"
    },
    "accelerator": "GPU"
  },
  "cells": [
    {
      "cell_type": "markdown",
      "metadata": {
        "id": "view-in-github",
        "colab_type": "text"
      },
      "source": [
        "<a href=\"https://colab.research.google.com/github/shakirhussain128/CNN-PROJECT-CODE/blob/main/stop_watch.ipynb\" target=\"_parent\"><img src=\"https://colab.research.google.com/assets/colab-badge.svg\" alt=\"Open In Colab\"/></a>"
      ]
    },
    {
      "cell_type": "code",
      "source": [
        "import time\n",
        "from IPython.display import display, clear_output\n",
        "\n",
        "# Stopwatch function\n",
        "def stopwatch():\n",
        "    print(\"Press 'Ctrl+C' to stop the stopwatch.\")\n",
        "    start_time = time.time()\n",
        "    try:\n",
        "        while True:\n",
        "            elapsed_time = time.time() - start_time\n",
        "            minutes, seconds = divmod(elapsed_time, 60)\n",
        "            minutes = int(minutes)\n",
        "            seconds = int(seconds)\n",
        "            clear_output(wait=True)\n",
        "            print(f\"Stopwatch: {minutes:02d}:{seconds:02d}\")\n",
        "            time.sleep(1)\n",
        "    except KeyboardInterrupt:\n",
        "        print(\"\\nStopwatch stopped.\")\n",
        "\n",
        "# Start stopwatch\n",
        "stopwatch()\n"
      ],
      "metadata": {
        "id": "70kuj79STpJ7",
        "colab": {
          "base_uri": "https://localhost:8080/"
        },
        "outputId": "eb5bd84b-37aa-406a-942d-c7487b7cc630"
      },
      "execution_count": 1,
      "outputs": [
        {
          "output_type": "stream",
          "name": "stdout",
          "text": [
            "Stopwatch: 08:33\n",
            "\n",
            "Stopwatch stopped.\n"
          ]
        }
      ]
    },
    {
      "cell_type": "code",
      "source": [],
      "metadata": {
        "id": "MdemcGcF3kHk"
      },
      "execution_count": null,
      "outputs": []
    }
  ]
}