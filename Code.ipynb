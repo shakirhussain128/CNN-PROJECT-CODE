{
  "cells": [
    {
      "cell_type": "code",
      "execution_count": 3,
      "metadata": {
        "colab": {
          "base_uri": "https://localhost:8080/"
        },
        "collapsed": true,
        "id": "e8BuKiOgPV0S",
        "outputId": "927b8784-7fb5-41bf-e582-6c8fdd79c903"
      },
      "outputs": [
        {
          "output_type": "stream",
          "name": "stdout",
          "text": []
        }
      ],
      "source": [
        "import requests\n",
        "\n",
        "def download_file(url, filename):\n",
        "    # Send a GET request\n",
        "    response = requests.get(url, stream=True)\n",
        "\n",
        "    # Open the file to write the content\n",
        "    with open(filename, 'wb') as file:\n",
        "        total_downloaded = 0\n",
        "        total_size = int(response.headers.get('content-length', 0))\n",
        "\n",
        "        # Write the content in chunks and show progress\n",
        "        for chunk in response.iter_content(chunk_size=1024):\n",
        "            if chunk:\n",
        "                file.write(chunk)\n",
        "                total_downloaded += len(chunk)\n",
        "                print(f\"Downloaded {total_downloaded} of {total_size} bytes\", end=\"\\r\")\n",
        "\n",
        "# Example usage\n",
        "url = 'http://ufldl.stanford.edu/housenumbers/train_32x32.mat'  # Replace with the file's URL\n",
        "filename = 'train_32x32.mat'\n",
        "\n",
        "url2 = 'http://ufldl.stanford.edu/housenumbers/test_32x32.mat'  # Replace with the file's URL\n",
        "filename2 = 'test_32x32.mat'\n",
        "\n",
        "download_file(url, filename)\n",
        "download_file(url2, filename2)\n"
      ]
    },
    {
      "cell_type": "code",
      "execution_count": 4,
      "metadata": {
        "id": "4NNj3wNKPVGc"
      },
      "outputs": [],
      "source": [
        "import numpy as np\n",
        "import matplotlib.pyplot as plt\n",
        "from scipy.io import loadmat\n",
        "from tensorflow.keras.utils import to_categorical\n",
        "from tensorflow.keras import layers, models\n",
        "from tensorflow.keras.preprocessing.image import ImageDataGenerator"
      ]
    },
    {
      "cell_type": "code",
      "execution_count": 5,
      "metadata": {
        "id": "AaS8_w4YPVGf"
      },
      "outputs": [],
      "source": [
        "train_data = loadmat(\"train_32x32.mat\")\n",
        "test_data = loadmat(\"test_32x32.mat\")"
      ]
    },
    {
      "cell_type": "code",
      "execution_count": 6,
      "metadata": {
        "id": "qCRtTWmoPVGf"
      },
      "outputs": [],
      "source": [
        "X_train = train_data['X']\n",
        "y_train = train_data['y'].flatten()\n",
        "\n",
        "X_test = test_data['X']\n",
        "y_test = test_data['y'].flatten()\n"
      ]
    },
    {
      "cell_type": "code",
      "execution_count": 7,
      "metadata": {
        "id": "yodIi0-JPVGg"
      },
      "outputs": [],
      "source": [
        "y_train[y_train == 10] = 0\n",
        "y_test[y_test == 10] = 0"
      ]
    },
    {
      "cell_type": "code",
      "execution_count": 8,
      "metadata": {
        "id": "ch1HnlyAPVGg"
      },
      "outputs": [],
      "source": [
        "X_train = np.moveaxis(X_train, -1, 0)\n",
        "X_test = np.moveaxis(X_test, -1, 0)"
      ]
    },
    {
      "cell_type": "code",
      "execution_count": 9,
      "metadata": {
        "id": "YRprpDGwPVGh"
      },
      "outputs": [],
      "source": [
        "X_train = X_train.astype('float32') / 255.0\n",
        "X_test = X_test.astype('float32') / 255.0\n"
      ]
    },
    {
      "cell_type": "code",
      "execution_count": 10,
      "metadata": {
        "id": "CXm8Wpj9PVGh"
      },
      "outputs": [],
      "source": [
        "y_train = to_categorical(y_train, num_classes=10)\n",
        "y_test = to_categorical(y_test, num_classes=10)\n"
      ]
    },
    {
      "cell_type": "code",
      "execution_count": 11,
      "metadata": {
        "id": "U9L5hJQ8PVGi"
      },
      "outputs": [],
      "source": [
        "train_datagen = ImageDataGenerator(\n",
        "    rotation_range=10,\n",
        "    zoom_range=0.1,\n",
        "    width_shift_range=0.1,\n",
        "    height_shift_range=0.1\n",
        ")\n",
        "\n",
        "train_generator = train_datagen.flow(X_train, y_train, batch_size=64)"
      ]
    },
    {
      "cell_type": "code",
      "execution_count": 12,
      "metadata": {
        "id": "6Di8sdN9PVGi"
      },
      "outputs": [],
      "source": [
        "model = models.Sequential()"
      ]
    },
    {
      "cell_type": "code",
      "execution_count": 13,
      "metadata": {
        "colab": {
          "base_uri": "https://localhost:8080/"
        },
        "id": "wwrtSm6jPVGj",
        "outputId": "9dbceaa6-20d4-4a79-be2c-00336735d491"
      },
      "outputs": [
        {
          "output_type": "stream",
          "name": "stderr",
          "text": [
            "/usr/local/lib/python3.10/dist-packages/keras/src/layers/convolutional/base_conv.py:107: UserWarning: Do not pass an `input_shape`/`input_dim` argument to a layer. When using Sequential models, prefer using an `Input(shape)` object as the first layer in the model instead.\n",
            "  super().__init__(activity_regularizer=activity_regularizer, **kwargs)\n"
          ]
        }
      ],
      "source": [
        "model.add(layers.Conv2D(32, (3, 3), activation='relu', input_shape=(32, 32, 3)))\n",
        "model.add(layers.MaxPooling2D((2, 2)))\n",
        "\n",
        "model.add(layers.Conv2D(64, (3, 3), activation='relu'))\n",
        "model.add(layers.MaxPooling2D((2, 2)))\n",
        "\n",
        "model.add(layers.Conv2D(64, (3, 3), activation='relu'))\n",
        "model.add(layers.MaxPooling2D((2, 2)))\n",
        "\n",
        "model.add(layers.Flatten())\n",
        "model.add(layers.Dense(64, activation='relu'))\n",
        "model.add(layers.Dropout(0.5))\n",
        "model.add(layers.Dense(10, activation='softmax'))"
      ]
    },
    {
      "cell_type": "code",
      "execution_count": 14,
      "metadata": {
        "id": "wPOa34erPVGk"
      },
      "outputs": [],
      "source": [
        "model.compile(optimizer='adam', loss='categorical_crossentropy', metrics=['accuracy'])\n"
      ]
    },
    {
      "cell_type": "code",
      "execution_count": null,
      "metadata": {
        "colab": {
          "base_uri": "https://localhost:8080/"
        },
        "id": "TxYESr4nPVGk",
        "outputId": "e3f05c46-bcca-441e-8fb8-46afd68ad75f"
      },
      "outputs": [
        {
          "metadata": {
            "tags": null
          },
          "name": "stdout",
          "output_type": "stream",
          "text": [
            "Epoch 1/20\n"
          ]
        },
        {
          "metadata": {
            "tags": null
          },
          "name": "stderr",
          "output_type": "stream",
          "text": [
            "/usr/local/lib/python3.10/dist-packages/keras/src/trainers/data_adapters/py_dataset_adapter.py:121: UserWarning: Your `PyDataset` class should call `super().__init__(**kwargs)` in its constructor. `**kwargs` can include `workers`, `use_multiprocessing`, `max_queue_size`. Do not pass these arguments to `fit()`, as they will be ignored.\n",
            "  self._warn_if_super_not_called()\n"
          ]
        },
        {
          "output_type": "stream",
          "name": "stdout",
          "text": [
            "\u001b[1m1145/1145\u001b[0m \u001b[32m━━━━━━━━━━━━━━━━━━━━\u001b[0m\u001b[37m\u001b[0m \u001b[1m74s\u001b[0m 56ms/step - accuracy: 0.2728 - loss: 2.0420 - val_accuracy: 0.7610 - val_loss: 0.8307\n",
            "Epoch 2/20\n",
            "\u001b[1m1145/1145\u001b[0m \u001b[32m━━━━━━━━━━━━━━━━━━━━\u001b[0m\u001b[37m\u001b[0m \u001b[1m61s\u001b[0m 53ms/step - accuracy: 0.6274 - loss: 1.1488 - val_accuracy: 0.8259 - val_loss: 0.6349\n",
            "Epoch 3/20\n",
            "\u001b[1m1145/1145\u001b[0m \u001b[32m━━━━━━━━━━━━━━━━━━━━\u001b[0m\u001b[37m\u001b[0m \u001b[1m60s\u001b[0m 52ms/step - accuracy: 0.7143 - loss: 0.9130 - val_accuracy: 0.8659 - val_loss: 0.5032\n",
            "Epoch 4/20\n",
            "\u001b[1m1145/1145\u001b[0m \u001b[32m━━━━━━━━━━━━━━━━━━━━\u001b[0m\u001b[37m\u001b[0m \u001b[1m83s\u001b[0m 52ms/step - accuracy: 0.7476 - loss: 0.8195 - val_accuracy: 0.8750 - val_loss: 0.4522\n",
            "Epoch 5/20\n",
            "\u001b[1m1145/1145\u001b[0m \u001b[32m━━━━━━━━━━━━━━━━━━━━\u001b[0m\u001b[37m\u001b[0m \u001b[1m59s\u001b[0m 52ms/step - accuracy: 0.7707 - loss: 0.7462 - val_accuracy: 0.8856 - val_loss: 0.4132\n",
            "Epoch 6/20\n",
            "\u001b[1m1145/1145\u001b[0m \u001b[32m━━━━━━━━━━━━━━━━━━━━\u001b[0m\u001b[37m\u001b[0m \u001b[1m61s\u001b[0m 53ms/step - accuracy: 0.7874 - loss: 0.6986 - val_accuracy: 0.8896 - val_loss: 0.3884\n",
            "Epoch 7/20\n",
            "\u001b[1m1145/1145\u001b[0m \u001b[32m━━━━━━━━━━━━━━━━━━━━\u001b[0m\u001b[37m\u001b[0m \u001b[1m96s\u001b[0m 84ms/step - accuracy: 0.8011 - loss: 0.6564 - val_accuracy: 0.8969 - val_loss: 0.3717\n",
            "Epoch 8/20\n",
            "\u001b[1m1145/1145\u001b[0m \u001b[32m━━━━━━━━━━━━━━━━━━━━\u001b[0m\u001b[37m\u001b[0m \u001b[1m59s\u001b[0m 51ms/step - accuracy: 0.8133 - loss: 0.6267 - val_accuracy: 0.8976 - val_loss: 0.3610\n",
            "Epoch 9/20\n",
            "\u001b[1m1145/1145\u001b[0m \u001b[32m━━━━━━━━━━━━━━━━━━━━\u001b[0m\u001b[37m\u001b[0m \u001b[1m59s\u001b[0m 51ms/step - accuracy: 0.8200 - loss: 0.5966 - val_accuracy: 0.9096 - val_loss: 0.3288\n",
            "Epoch 10/20\n",
            "\u001b[1m1145/1145\u001b[0m \u001b[32m━━━━━━━━━━━━━━━━━━━━\u001b[0m\u001b[37m\u001b[0m \u001b[1m60s\u001b[0m 52ms/step - accuracy: 0.8276 - loss: 0.5743 - val_accuracy: 0.9084 - val_loss: 0.3322\n",
            "Epoch 11/20\n",
            "\u001b[1m1145/1145\u001b[0m \u001b[32m━━━━━━━━━━━━━━━━━━━━\u001b[0m\u001b[37m\u001b[0m \u001b[1m61s\u001b[0m 53ms/step - accuracy: 0.8353 - loss: 0.5551 - val_accuracy: 0.9130 - val_loss: 0.3093\n",
            "Epoch 12/20\n",
            "\u001b[1m1145/1145\u001b[0m \u001b[32m━━━━━━━━━━━━━━━━━━━━\u001b[0m\u001b[37m\u001b[0m \u001b[1m81s\u001b[0m 52ms/step - accuracy: 0.8420 - loss: 0.5374 - val_accuracy: 0.9110 - val_loss: 0.3194\n",
            "Epoch 13/20\n",
            "\u001b[1m1145/1145\u001b[0m \u001b[32m━━━━━━━━━━━━━━━━━━━━\u001b[0m\u001b[37m\u001b[0m \u001b[1m80s\u001b[0m 51ms/step - accuracy: 0.8453 - loss: 0.5241 - val_accuracy: 0.9160 - val_loss: 0.2997\n",
            "Epoch 14/20\n",
            "\u001b[1m1145/1145\u001b[0m \u001b[32m━━━━━━━━━━━━━━━━━━━━\u001b[0m\u001b[37m\u001b[0m \u001b[1m85s\u001b[0m 54ms/step - accuracy: 0.8517 - loss: 0.5027 - val_accuracy: 0.9193 - val_loss: 0.2956\n",
            "Epoch 15/20\n",
            "\u001b[1m1145/1145\u001b[0m \u001b[32m━━━━━━━━━━━━━━━━━━━━\u001b[0m\u001b[37m\u001b[0m \u001b[1m59s\u001b[0m 52ms/step - accuracy: 0.8510 - loss: 0.5048 - val_accuracy: 0.9172 - val_loss: 0.2990\n",
            "Epoch 16/20\n",
            "\u001b[1m1145/1145\u001b[0m \u001b[32m━━━━━━━━━━━━━━━━━━━━\u001b[0m\u001b[37m\u001b[0m \u001b[1m60s\u001b[0m 52ms/step - accuracy: 0.8547 - loss: 0.4880 - val_accuracy: 0.9216 - val_loss: 0.2835\n",
            "Epoch 17/20\n",
            "\u001b[1m1145/1145\u001b[0m \u001b[32m━━━━━━━━━━━━━━━━━━━━\u001b[0m\u001b[37m\u001b[0m \u001b[1m58s\u001b[0m 50ms/step - accuracy: 0.8573 - loss: 0.4858 - val_accuracy: 0.9249 - val_loss: 0.2797\n",
            "Epoch 18/20\n",
            "\u001b[1m1145/1145\u001b[0m \u001b[32m━━━━━━━━━━━━━━━━━━━━\u001b[0m\u001b[37m\u001b[0m \u001b[1m61s\u001b[0m 53ms/step - accuracy: 0.8567 - loss: 0.4814 - val_accuracy: 0.9203 - val_loss: 0.2898\n",
            "Epoch 19/20\n",
            "\u001b[1m1137/1145\u001b[0m \u001b[32m━━━━━━━━━━━━━━━━━━━\u001b[0m\u001b[37m━\u001b[0m \u001b[1m0s\u001b[0m 49ms/step - accuracy: 0.8568 - loss: 0.4787"
          ]
        }
      ],
      "source": [
        "model.fit(train_generator, epochs=20, validation_data=(X_test, y_test))"
      ]
    },
    {
      "cell_type": "code",
      "execution_count": null,
      "metadata": {
        "id": "qtq_uvnRPVGk"
      },
      "outputs": [],
      "source": [
        "# Save the trained model\n",
        "model.save('trained_model.h5')\n",
        "print(\"Model saved successfully!\")\n"
      ]
    },
    {
      "cell_type": "code",
      "execution_count": null,
      "metadata": {
        "id": "BL6R51cyPVGl"
      },
      "outputs": [],
      "source": [
        "import numpy as np\n",
        "from tensorflow.keras.preprocessing import image\n",
        "import matplotlib.pyplot as plt\n",
        "\n",
        "# Assuming the model has already been trained and is loaded\n",
        "\n",
        "def predict_digit(img_path, model):\n",
        "    \"\"\"\n",
        "    This function takes an image path, processes the image, and predicts the digit using the trained model.\n",
        "\n",
        "    Args:\n",
        "    img_path (str): Path to the input image.\n",
        "    model (Keras model): The trained CNN model.\n",
        "\n",
        "    Returns:\n",
        "    int: Predicted digit (0-9).\n",
        "    \"\"\"\n",
        "\n",
        "    # Load the image\n",
        "    img = image.load_img(img_path, target_size=(32, 32))  # Resize to 32x32\n",
        "    plt.imshow(img)\n",
        "    plt.show()\n",
        "\n",
        "    # Convert the image to a numpy array\n",
        "    img_array = image.img_to_array(img)\n",
        "\n",
        "    # Normalize the image\n",
        "    img_array = img_array.astype('float32') / 255.0\n",
        "\n",
        "    # Expand dimensions to match the input shape of the model [1, 32, 32, 3]\n",
        "    img_array = np.expand_dims(img_array, axis=0)\n",
        "\n",
        "    # Predict the class (digit) using the model\n",
        "    prediction = model.predict(img_array)\n",
        "\n",
        "    # Get the index (digit) with the highest probability\n",
        "    predicted_digit = np.argmax(prediction)\n",
        "\n",
        "    print(f\"The predicted digit is: {predicted_digit}\")\n",
        "    return predicted_digit\n",
        "\n",
        "# Example usage:\n",
        "# Assuming you have trained the model and saved it as 'trained_model.h5'\n",
        "# model = models.load_model('trained_model.h5')\n",
        "# predict_digit('path_to_image.png', model)\n",
        "model = models.load_model('trained_model.h5')"
      ]
    },
    {
      "cell_type": "code",
      "execution_count": 19,
      "metadata": {
        "colab": {
          "base_uri": "https://localhost:8080/",
          "height": 482
        },
        "id": "zHWuIo5fPVGl",
        "outputId": "5cc1abf1-baa7-4577-c367-383ac7ffb0e2"
      },
      "outputs": [
        {
          "output_type": "display_data",
          "data": {
            "text/plain": [
              "<Figure size 640x480 with 1 Axes>"
            ],
            "image/png": "[encoded data removed]"
          },
          "metadata": {}
        },
        {
          "output_type": "stream",
          "name": "stdout",
          "text": [
            "\u001b[1m1/1\u001b[0m \u001b[32m━━━━━━━━━━━━━━━━━━━━\u001b[0m\u001b[37m\u001b[0m \u001b[1m0s\u001b[0m 65ms/step\n",
            "The predicted digit is: 3\n"
          ]
        },
        {
          "output_type": "execute_result",
          "data": {
            "text/plain": [
              "3"
            ]
          },
          "metadata": {},
          "execution_count": 19
        }
      ],
      "source": [
        "predict_digit(\"test_image.png\", model)"
      ]
    },
    {
      "cell_type": "code",
      "execution_count": null,
      "metadata": {
        "id": "OcRzvKoRQOqi"
      },
      "outputs": [],
      "source": [
        "\n"
      ]
    }
  ],
  "metadata": {
    "accelerator": "GPU",
    "colab": {
      "gpuType": "T4",
      "provenance": []
    },
    "kernelspec": {
      "display_name": "Python 3",
      "name": "python3"
    },
    "language_info": {
      "codemirror_mode": {
        "name": "ipython",
        "version": 3
      },
      "file_extension": ".py",
      "mimetype": "text/x-python",
      "name": "python",
      "nbconvert_exporter": "python",
      "pygments_lexer": "ipython3",
      "version": "3.12.0"
    }
  },
  "nbformat": 4,
  "nbformat_minor": 0
}