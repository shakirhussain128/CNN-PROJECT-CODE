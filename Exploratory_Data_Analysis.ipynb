{
  "nbformat": 4,
  "nbformat_minor": 0,
  "metadata": {
    "colab": {
      "provenance": [],
      "authorship_tag": "ABX9TyNbvTP6omZGttIL3m4TH6dc",
      "include_colab_link": true
    },
    "kernelspec": {
      "name": "python3",
      "display_name": "Python 3"
    },
    "language_info": {
      "name": "python"
    }
  },
  "cells": [
    {
      "cell_type": "markdown",
      "metadata": {
        "id": "view-in-github",
        "colab_type": "text"
      },
      "source": [
        "<a href=\"https://colab.research.google.com/github/shakirhussain128/CNN-PROJECT-CODE/blob/main/Exploratory_Data_Analysis.ipynb\" target=\"_parent\"><img src=\"https://colab.research.google.com/assets/colab-badge.svg\" alt=\"Open In Colab\"/></a>"
      ]
    },
    {
      "cell_type": "markdown",
      "source": [
        "EDA - Exploratory Data Analysis in Python"
      ],
      "metadata": {
        "id": "bOVldtiBHzF4"
      }
    },
    {
      "cell_type": "markdown",
      "source": [
        "Exploratory Data Analysis (EDA) is a important step in data analysis which focuses on understanding patterns, trends and relationships through statistical tools and visualizations. Python offers various libraries like pandas, numPy, matplotlib, seaborn and plotly which enables effective exploration and insights generation to help in further modeling and analysis. In this article, we will see how to perform EDA using python."
      ],
      "metadata": {
        "id": "F7Eh6ZpnH47v"
      }
    },
    {
      "cell_type": "markdown",
      "source": [
        "Step 1: Importing Required Libraries\n",
        "We need to install Pandas, NumPy, Matplotlib and Seaborn libraries in python to proceed further."
      ],
      "metadata": {
        "id": "DOsgc7AcH-Hi"
      }
    },
    {
      "cell_type": "code",
      "execution_count": 3,
      "metadata": {
        "id": "BEX7HSi0HxZZ"
      },
      "outputs": [],
      "source": [
        "import pandas as pd\n",
        "import numpy as np\n",
        "import matplotlib.pyplot as plt\n",
        "import seaborn as sns\n",
        "import warnings as wr\n",
        "wr.filterwarnings('ignore')"
      ]
    },
    {
      "cell_type": "markdown",
      "source": [
        "Step 2: Reading Dataset\n",
        "Lets read the dataset using pandas. **bold text**"
      ],
      "metadata": {
        "id": "Gav9cBqtIBTY"
      }
    },
    {
      "cell_type": "code",
      "source": [
        "from google.colab import drive\n",
        "drive.mount('/content/drive')"
      ],
      "metadata": {
        "colab": {
          "base_uri": "https://localhost:8080/",
          "height": 321
        },
        "id": "C5MzVnrHILGW",
        "outputId": "fc4b603b-3d69-4374-88c4-b194b5d7c1fd"
      },
      "execution_count": 4,
      "outputs": [
        {
          "output_type": "error",
          "ename": "ValueError",
          "evalue": "mount failed",
          "traceback": [
            "\u001b[0;31m---------------------------------------------------------------------------\u001b[0m",
            "\u001b[0;31mValueError\u001b[0m                                Traceback (most recent call last)",
            "\u001b[0;32m/tmp/ipython-input-1408506528.py\u001b[0m in \u001b[0;36m<cell line: 0>\u001b[0;34m()\u001b[0m\n\u001b[1;32m      1\u001b[0m \u001b[0;32mfrom\u001b[0m \u001b[0mgoogle\u001b[0m\u001b[0;34m.\u001b[0m\u001b[0mcolab\u001b[0m \u001b[0;32mimport\u001b[0m \u001b[0mdrive\u001b[0m\u001b[0;34m\u001b[0m\u001b[0;34m\u001b[0m\u001b[0m\n\u001b[0;32m----> 2\u001b[0;31m \u001b[0mdrive\u001b[0m\u001b[0;34m.\u001b[0m\u001b[0mmount\u001b[0m\u001b[0;34m(\u001b[0m\u001b[0;34m'/content/drive'\u001b[0m\u001b[0;34m)\u001b[0m\u001b[0;34m\u001b[0m\u001b[0;34m\u001b[0m\u001b[0m\n\u001b[0m",
            "\u001b[0;32m/usr/local/lib/python3.11/dist-packages/google/colab/drive.py\u001b[0m in \u001b[0;36mmount\u001b[0;34m(mountpoint, force_remount, timeout_ms, readonly)\u001b[0m\n\u001b[1;32m     98\u001b[0m \u001b[0;32mdef\u001b[0m \u001b[0mmount\u001b[0m\u001b[0;34m(\u001b[0m\u001b[0mmountpoint\u001b[0m\u001b[0;34m,\u001b[0m \u001b[0mforce_remount\u001b[0m\u001b[0;34m=\u001b[0m\u001b[0;32mFalse\u001b[0m\u001b[0;34m,\u001b[0m \u001b[0mtimeout_ms\u001b[0m\u001b[0;34m=\u001b[0m\u001b[0;36m120000\u001b[0m\u001b[0;34m,\u001b[0m \u001b[0mreadonly\u001b[0m\u001b[0;34m=\u001b[0m\u001b[0;32mFalse\u001b[0m\u001b[0;34m)\u001b[0m\u001b[0;34m:\u001b[0m\u001b[0;34m\u001b[0m\u001b[0;34m\u001b[0m\u001b[0m\n\u001b[1;32m     99\u001b[0m   \u001b[0;34m\"\"\"Mount your Google Drive at the specified mountpoint path.\"\"\"\u001b[0m\u001b[0;34m\u001b[0m\u001b[0;34m\u001b[0m\u001b[0m\n\u001b[0;32m--> 100\u001b[0;31m   return _mount(\n\u001b[0m\u001b[1;32m    101\u001b[0m       \u001b[0mmountpoint\u001b[0m\u001b[0;34m,\u001b[0m\u001b[0;34m\u001b[0m\u001b[0;34m\u001b[0m\u001b[0m\n\u001b[1;32m    102\u001b[0m       \u001b[0mforce_remount\u001b[0m\u001b[0;34m=\u001b[0m\u001b[0mforce_remount\u001b[0m\u001b[0;34m,\u001b[0m\u001b[0;34m\u001b[0m\u001b[0;34m\u001b[0m\u001b[0m\n",
            "\u001b[0;32m/usr/local/lib/python3.11/dist-packages/google/colab/drive.py\u001b[0m in \u001b[0;36m_mount\u001b[0;34m(mountpoint, force_remount, timeout_ms, ephemeral, readonly)\u001b[0m\n\u001b[1;32m    275\u001b[0m             \u001b[0;34m'https://research.google.com/colaboratory/faq.html#drive-timeout'\u001b[0m\u001b[0;34m\u001b[0m\u001b[0;34m\u001b[0m\u001b[0m\n\u001b[1;32m    276\u001b[0m         )\n\u001b[0;32m--> 277\u001b[0;31m       \u001b[0;32mraise\u001b[0m \u001b[0mValueError\u001b[0m\u001b[0;34m(\u001b[0m\u001b[0;34m'mount failed'\u001b[0m \u001b[0;34m+\u001b[0m \u001b[0mextra_reason\u001b[0m\u001b[0;34m)\u001b[0m\u001b[0;34m\u001b[0m\u001b[0;34m\u001b[0m\u001b[0m\n\u001b[0m\u001b[1;32m    278\u001b[0m     \u001b[0;32melif\u001b[0m \u001b[0mcase\u001b[0m \u001b[0;34m==\u001b[0m \u001b[0;36m4\u001b[0m\u001b[0;34m:\u001b[0m\u001b[0;34m\u001b[0m\u001b[0;34m\u001b[0m\u001b[0m\n\u001b[1;32m    279\u001b[0m       \u001b[0;31m# Terminate the DriveFS binary before killing bash.\u001b[0m\u001b[0;34m\u001b[0m\u001b[0;34m\u001b[0m\u001b[0m\n",
            "\u001b[0;31mValueError\u001b[0m: mount failed"
          ]
        }
      ]
    },
    {
      "cell_type": "code",
      "source": [
        "df = pd.read_csv(\"/content/WineQT.csv\")\n",
        "print(df.head())"
      ],
      "metadata": {
        "id": "oYbEPEktInu-"
      },
      "execution_count": null,
      "outputs": []
    },
    {
      "cell_type": "markdown",
      "source": [
        "**Step 3: Analyzing the Data**\n",
        "1. df.shape(): This function is used to understand the number of rows (observations) and columns (features) in the dataset. This gives an overview of the dataset's size and structure.\n"
      ],
      "metadata": {
        "id": "w6CIpxIFInQi"
      }
    },
    {
      "cell_type": "code",
      "source": [
        "df.shape"
      ],
      "metadata": {
        "id": "ix-YtMpuIuxr"
      },
      "execution_count": null,
      "outputs": []
    },
    {
      "cell_type": "markdown",
      "source": [
        "2. df.info(): This function helps us to understand the dataset by showing the number of records in each column, type of data, whether any values are missing and how much memory the dataset uses."
      ],
      "metadata": {
        "id": "jSfTpOHwI80-"
      }
    },
    {
      "cell_type": "code",
      "source": [
        "df.info()"
      ],
      "metadata": {
        "id": "Rz4_bgCJI92s"
      },
      "execution_count": null,
      "outputs": []
    },
    {
      "cell_type": "markdown",
      "source": [
        "3. df.describe().T: This method gives a statistical summary of the DataFrame (Transpose) showing values like count, mean, standard deviation, minimum and quartiles for each numerical column. It helps in summarizing the central tendency and spread of the data."
      ],
      "metadata": {
        "id": "BgSvMPptJEHi"
      }
    },
    {
      "cell_type": "code",
      "source": [
        "df.describe().T"
      ],
      "metadata": {
        "id": "cLoWg3I2JG2y"
      },
      "execution_count": null,
      "outputs": []
    },
    {
      "cell_type": "markdown",
      "source": [
        "4. df.columns.tolist(): This converts the column names of the DataFrame into a Python list making it easy to access and manipulate the column names."
      ],
      "metadata": {
        "id": "xelOJ7xuJKQb"
      }
    },
    {
      "cell_type": "code",
      "source": [
        "df.columns.tolist()"
      ],
      "metadata": {
        "id": "mGBNE2xXJN16"
      },
      "execution_count": null,
      "outputs": []
    },
    {
      "cell_type": "markdown",
      "source": [
        "Step 4 : Checking Missing Values\n",
        "df.isnull().sum(): This checks for missing values in each column and returns the total number of null values per column helping us to identify any gaps in our data"
      ],
      "metadata": {
        "id": "lPv2PQvyJSMs"
      }
    },
    {
      "cell_type": "code",
      "source": [
        "df.isnull().sum()"
      ],
      "metadata": {
        "id": "NCxT2LAvJVk7"
      },
      "execution_count": null,
      "outputs": []
    },
    {
      "cell_type": "markdown",
      "source": [
        "Step 5 : Checking for the duplicate values\n",
        "df.nunique(): This function tells us how many unique values exist in each column which provides insight into the variety of data in each feature."
      ],
      "metadata": {
        "id": "bqeB4_DsJaCU"
      }
    },
    {
      "cell_type": "code",
      "source": [
        "df.nunique()"
      ],
      "metadata": {
        "id": "NTBdAEPsJdXK"
      },
      "execution_count": null,
      "outputs": []
    },
    {
      "cell_type": "markdown",
      "source": [
        "tep 6: Univariate Analysis\n",
        "In Univariate analysis plotting the right charts can help us to better understand the data making the data visualization so important.\n",
        "\n",
        "1. Bar Plot for evaluating the count of the wine with its quality rate."
      ],
      "metadata": {
        "id": "BT693ihZJfcA"
      }
    },
    {
      "cell_type": "code",
      "source": [
        "quality_counts = df['quality'].value_counts()\n",
        "\n",
        "plt.figure(figsize=(8, 6))\n",
        "plt.bar(quality_counts.index, quality_counts, color='deeppink')\n",
        "plt.title('Count Plot of Quality')\n",
        "plt.xlabel('Quality')\n",
        "plt.ylabel('Count')\n",
        "plt.show()"
      ],
      "metadata": {
        "id": "jgB-Ge12KSXc"
      },
      "execution_count": null,
      "outputs": []
    },
    {
      "cell_type": "markdown",
      "source": [
        "Here, this count plot graph shows the count of the wine with its quality rate."
      ],
      "metadata": {
        "id": "JS4xjDwsKUvH"
      }
    },
    {
      "cell_type": "code",
      "source": [],
      "metadata": {
        "id": "BGYdmvO_KYHC"
      },
      "execution_count": null,
      "outputs": []
    },
    {
      "cell_type": "markdown",
      "source": [
        "**2. Kernel density plot for understanding variance in the dataset**"
      ],
      "metadata": {
        "id": "ijnjcvsHKayy"
      }
    },
    {
      "cell_type": "code",
      "source": [
        "sns.set_style(\"darkgrid\")\n",
        "\n",
        "numerical_columns = df.select_dtypes(include=[\"int64\", \"float64\"]).columns\n",
        "\n",
        "plt.figure(figsize=(14, len(numerical_columns) * 3))\n",
        "for idx, feature in enumerate(numerical_columns, 1):\n",
        "    plt.subplot(len(numerical_columns), 2, idx)\n",
        "    sns.histplot(df[feature], kde=True)\n",
        "    plt.title(f\"{feature} | Skewness: {round(df[feature].skew(), 2)}\")\n",
        "\n",
        "plt.tight_layout()\n",
        "plt.show()"
      ],
      "metadata": {
        "id": "SouxzKEWKdiL"
      },
      "execution_count": null,
      "outputs": []
    },
    {
      "cell_type": "markdown",
      "source": [
        "The features in the dataset with a skewness of 0 shows a symmetrical distribution. If the skewness is 1 or above it suggests a positively skewed (right-skewed) distribution. In a right-skewed distribution the tail extends more to the right which shows the presence of extremely high values."
      ],
      "metadata": {
        "id": "qBk_oEf3KgGw"
      }
    },
    {
      "cell_type": "markdown",
      "source": [
        "**3. Swarm Plot for showing the outlier in the data**"
      ],
      "metadata": {
        "id": "CoytkRnWKrtx"
      }
    },
    {
      "cell_type": "code",
      "source": [
        "plt.figure(figsize=(10, 8))\n",
        "\n",
        "sns.swarmplot(x=\"quality\", y=\"alcohol\", data=df, palette='viridis')\n",
        "\n",
        "plt.title('Swarm Plot for Quality and Alcohol')\n",
        "plt.xlabel('Quality')\n",
        "plt.ylabel('Alcohol')\n",
        "plt.show()"
      ],
      "metadata": {
        "id": "iC4Y2Ll_Kn9q"
      },
      "execution_count": null,
      "outputs": []
    },
    {
      "cell_type": "markdown",
      "source": [
        "This graph shows the swarm plot for the 'Quality' and 'Alcohol' columns. The higher point density in certain areas shows where most of the data points are concentrated. Points that are isolated and far from these clusters represent outliers highlighting uneven values in the dataset."
      ],
      "metadata": {
        "id": "SOsX0le6KvIU"
      }
    },
    {
      "cell_type": "markdown",
      "source": [
        "**Step 7: Bivariate Analysis**"
      ],
      "metadata": {
        "id": "yy3gTZACLD49"
      }
    },
    {
      "cell_type": "markdown",
      "source": [
        "In bivariate analysis two variables are analyzed together to identify patterns, dependencies or interactions between them. This method helps in understanding how changes in one variable might affect another.\n",
        "\n",
        "Let's visualize these relationships by plotting various plot for the data which will show how the variables interact with each other across multiple dimensions."
      ],
      "metadata": {
        "id": "tGBK0WYWLH57"
      }
    },
    {
      "cell_type": "markdown",
      "source": [
        "**1. Pair Plot for showing the distribution of the individual variables**"
      ],
      "metadata": {
        "id": "0mTfClcILHw5"
      }
    },
    {
      "cell_type": "code",
      "source": [
        "sns.set_palette(\"Pastel1\")\n",
        "\n",
        "plt.figure(figsize=(10, 6))\n",
        "\n",
        "sns.pairplot(df)\n",
        "\n",
        "plt.suptitle('Pair Plot for DataFrame')\n",
        "plt.show()"
      ],
      "metadata": {
        "id": "kCIEJ5OrKx-y"
      },
      "execution_count": null,
      "outputs": []
    },
    {
      "cell_type": "markdown",
      "source": [
        "If the plot is diagonal , histograms of kernel density plots shows the distribution of the individual variables.\n",
        "\n",
        "If the scatter plot is in the lower triangle, it displays the relationship between the pairs of the variables.\n",
        "\n",
        "If the scatter plots above and below the diagonal are mirror images indicating symmetry.\n",
        "\n",
        "If the histogram plots are more centered, it represents the locations of peaks.\n",
        "\n",
        "Skewness is found by observing whether the histogram is symmetrical or skewed to the left or right."
      ],
      "metadata": {
        "id": "ILyoXsADLQps"
      }
    },
    {
      "cell_type": "markdown",
      "source": [
        "**2. Violin Plot for examining the relationship between alcohol and Quality**"
      ],
      "metadata": {
        "id": "ZLk5LlmxLfNR"
      }
    },
    {
      "cell_type": "code",
      "source": [
        "df['quality'] = df['quality'].astype(str)\n",
        "\n",
        "plt.figure(figsize=(10, 8))\n",
        "\n",
        "sns.violinplot(x=\"quality\", y=\"alcohol\", data=df, palette={\n",
        "               '3': 'lightcoral', '4': 'lightblue', '5': 'lightgreen', '6': 'gold', '7': 'lightskyblue', '8': 'lightpink'}, alpha=0.7)\n",
        "\n",
        "plt.title('Violin Plot for Quality and Alcohol')\n",
        "plt.xlabel('Quality')\n",
        "plt.ylabel('Alcohol')\n",
        "plt.show()"
      ],
      "metadata": {
        "id": "z5zw8pWxLU0q"
      },
      "execution_count": null,
      "outputs": []
    },
    {
      "cell_type": "markdown",
      "source": [
        "For interpreting the Violin Plot:\n",
        "\n",
        "\n",
        "If the width is wider, it shows higher density suggesting more data points.\n",
        "\n",
        "Symmetrical plot shows a balanced distribution.\n",
        "\n",
        "Peak or bulge in the violin plot represents most common value in distribution.\n",
        "\n",
        "Longer tails shows great variability.\n",
        "\n",
        "Median line is the middle line inside the violin plot. It helps in understanding central tendencies."
      ],
      "metadata": {
        "id": "Cs4aBUdsLiPm"
      }
    },
    {
      "cell_type": "markdown",
      "source": [
        "**3. Box Plot for examining the relationship between alcohol and Quality**"
      ],
      "metadata": {
        "id": "l1B3HD1QLqYr"
      }
    },
    {
      "cell_type": "code",
      "source": [
        "sns.boxplot(x='quality', y='alcohol', data=df)"
      ],
      "metadata": {
        "id": "3HyetjnwLnoa"
      },
      "execution_count": null,
      "outputs": []
    },
    {
      "cell_type": "markdown",
      "source": [
        "Box represents the IQR i.e longer the box, greater the variability.\n",
        "\n",
        "\n",
        "Median line in the box shows central tendency.\n",
        "\n",
        "Whiskers extend from box to the smallest and largest values within a specified range.\n",
        "\n",
        "Individual points beyond the whiskers represents outliers.\n",
        "\n",
        "A compact box shows low variability while a stretched box shows higher variability."
      ],
      "metadata": {
        "id": "NXDvbTZ1LxUS"
      }
    },
    {
      "cell_type": "markdown",
      "source": [
        "**Step 8: Multivariate Analysis**\n",
        "\n",
        "It involves finding the interactions between three or more variables in a dataset at the same time. This approach focuses to identify complex patterns, relationships and interactions which provides understanding of how multiple variables collectively behave and influence each other.\n",
        "\n",
        "Here, we are going to show the multivariate analysis using a correlation matrix plot."
      ],
      "metadata": {
        "id": "OX8vYnyWL306"
      }
    },
    {
      "cell_type": "code",
      "source": [
        "plt.figure(figsize=(15, 10))\n",
        "\n",
        "sns.heatmap(df.corr(), annot=True, fmt='.2f', cmap='Pastel2', linewidths=2)\n",
        "\n",
        "plt.title('Correlation Heatmap')\n",
        "plt.show()"
      ],
      "metadata": {
        "colab": {
          "base_uri": "https://localhost:8080/",
          "height": 211
        },
        "id": "rpZtJf8wL0HK",
        "outputId": "940130d4-0023-47c9-8f30-232bdacf5393"
      },
      "execution_count": 2,
      "outputs": [
        {
          "output_type": "error",
          "ename": "NameError",
          "evalue": "name 'plt' is not defined",
          "traceback": [
            "\u001b[0;31m---------------------------------------------------------------------------\u001b[0m",
            "\u001b[0;31mNameError\u001b[0m                                 Traceback (most recent call last)",
            "\u001b[0;32m/tmp/ipython-input-680295635.py\u001b[0m in \u001b[0;36m<cell line: 0>\u001b[0;34m()\u001b[0m\n\u001b[0;32m----> 1\u001b[0;31m \u001b[0mplt\u001b[0m\u001b[0;34m.\u001b[0m\u001b[0mfigure\u001b[0m\u001b[0;34m(\u001b[0m\u001b[0mfigsize\u001b[0m\u001b[0;34m=\u001b[0m\u001b[0;34m(\u001b[0m\u001b[0;36m15\u001b[0m\u001b[0;34m,\u001b[0m \u001b[0;36m10\u001b[0m\u001b[0;34m)\u001b[0m\u001b[0;34m)\u001b[0m\u001b[0;34m\u001b[0m\u001b[0;34m\u001b[0m\u001b[0m\n\u001b[0m\u001b[1;32m      2\u001b[0m \u001b[0;34m\u001b[0m\u001b[0m\n\u001b[1;32m      3\u001b[0m \u001b[0msns\u001b[0m\u001b[0;34m.\u001b[0m\u001b[0mheatmap\u001b[0m\u001b[0;34m(\u001b[0m\u001b[0mdf\u001b[0m\u001b[0;34m.\u001b[0m\u001b[0mcorr\u001b[0m\u001b[0;34m(\u001b[0m\u001b[0;34m)\u001b[0m\u001b[0;34m,\u001b[0m \u001b[0mannot\u001b[0m\u001b[0;34m=\u001b[0m\u001b[0;32mTrue\u001b[0m\u001b[0;34m,\u001b[0m \u001b[0mfmt\u001b[0m\u001b[0;34m=\u001b[0m\u001b[0;34m'.2f'\u001b[0m\u001b[0;34m,\u001b[0m \u001b[0mcmap\u001b[0m\u001b[0;34m=\u001b[0m\u001b[0;34m'Pastel2'\u001b[0m\u001b[0;34m,\u001b[0m \u001b[0mlinewidths\u001b[0m\u001b[0;34m=\u001b[0m\u001b[0;36m2\u001b[0m\u001b[0;34m)\u001b[0m\u001b[0;34m\u001b[0m\u001b[0;34m\u001b[0m\u001b[0m\n\u001b[1;32m      4\u001b[0m \u001b[0;34m\u001b[0m\u001b[0m\n\u001b[1;32m      5\u001b[0m \u001b[0mplt\u001b[0m\u001b[0;34m.\u001b[0m\u001b[0mtitle\u001b[0m\u001b[0;34m(\u001b[0m\u001b[0;34m'Correlation Heatmap'\u001b[0m\u001b[0;34m)\u001b[0m\u001b[0;34m\u001b[0m\u001b[0;34m\u001b[0m\u001b[0m\n",
            "\u001b[0;31mNameError\u001b[0m: name 'plt' is not defined"
          ]
        }
      ]
    },
    {
      "cell_type": "markdown",
      "source": [
        "Values close to +1 shows strong positive correlation, -1 shows a strong negative correlation and 0 suggests no linear correlation.\n",
        "\n",
        "\n",
        "Darker colors signify strong correlation, while light colors represents weaker correlations.\n",
        "\n",
        "\n",
        "Positive correlation variable move in same directions. As one increases, the other also increases.\n",
        "\n",
        "Negative correlation variable move in opposite directions. An increase in one variable is associated with a decrease in the other.\n",
        "\n",
        "With these insights from the EDA, we are now ready to undertsand the data and explore more advanced modeling techniques."
      ],
      "metadata": {
        "id": "oDBUBGxQL_5u"
      }
    },
    {
      "cell_type": "code",
      "source": [],
      "metadata": {
        "id": "1dvPgs2kL8l9"
      },
      "execution_count": null,
      "outputs": []
    }
  ]
}